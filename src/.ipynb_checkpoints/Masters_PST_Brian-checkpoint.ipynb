{
 "cells": [
  {
   "cell_type": "code",
   "execution_count": 63,
   "metadata": {},
   "outputs": [],
   "source": [
    "import mysql.connector\n",
    "import numpy as np\n",
    "from sklearn.feature_extraction.text import CountVectorizer\n",
    "from sklearn.feature_extraction.text import TfidfVectorizer\n",
    "from sklearn.metrics.pairwise import euclidean_distances"
   ]
  },
  {
   "cell_type": "code",
   "execution_count": 64,
   "metadata": {},
   "outputs": [],
   "source": [
    "sent = \"We are best monkeys\"\n",
    "from_language=\"EN\"\n",
    "to_language=\"PT\""
   ]
  },
  {
   "cell_type": "code",
   "execution_count": 65,
   "metadata": {},
   "outputs": [],
   "source": [
    "db_writer = mysql.connector.connect(\n",
    "   host=\"104.154.187.13\",\n",
    "    database=\"masters\",\n",
    "    user=\"root\",\n",
    "    passwd=\"smu\")\n",
    "\n",
    "sent = sent.strip().lower().replace('(', '').replace(')', '')\n",
    "corpus = [] \n",
    "\n",
    "corpus.append(sent)\n",
    "\n",
    "query = \"select text, sentence_id from Sentences where language_key='\"+from_language+\"'\"\n",
    "cursor = db_writer.cursor()\n",
    "cursor.execute(query)\n",
    "row = cursor.fetchone() \n",
    "\n",
    "while row is not None:\n",
    "    sentence_id = row[1]\n",
    "    row = row[0].strip().lower().replace('(', '').replace(')', '')\n",
    "    corpus.append(row)\n",
    "    sentence_ids.append(sentence_id)\n",
    "    row = cursor.fetchone()\n",
    "\n",
    "cursor.close()\n",
    "db_writer.close()"
   ]
  },
  {
   "cell_type": "code",
   "execution_count": 66,
   "metadata": {},
   "outputs": [
    {
     "name": "stdout",
     "output_type": "stream",
     "text": [
      "(201, 317)\n"
     ]
    }
   ],
   "source": [
    "tfidf_vectorizer = TfidfVectorizer()\n",
    "tfidf_matrix = tfidf_vectorizer.fit_transform(corpus)\n",
    "print (tfidf_matrix.shape)"
   ]
  },
  {
   "cell_type": "code",
   "execution_count": 67,
   "metadata": {},
   "outputs": [
    {
     "data": {
      "text/plain": [
       "'we are good friends'"
      ]
     },
     "execution_count": 67,
     "metadata": {},
     "output_type": "execute_result"
    }
   ],
   "source": [
    "from sklearn.metrics.pairwise import cosine_similarity\n",
    "c_similarity = []\n",
    "c_similarity.append(cosine_similarity(tfidf_matrix[0:1], tfidf_matrix[1:]))\n",
    "index_max = np.argmax(c_similarity)\n",
    "corpus[index_max+1]"
   ]
  },
  {
   "cell_type": "code",
   "execution_count": 62,
   "metadata": {},
   "outputs": [
    {
     "name": "stdout",
     "output_type": "stream",
     "text": [
      "['nós somos bons amigos']\n",
      "[718]\n"
     ]
    }
   ],
   "source": [
    "db_writer = mysql.connector.connect(\n",
    "   host=\"104.154.187.13\",\n",
    "    database=\"masters\",\n",
    "    user=\"root\",\n",
    "    passwd=\"smu\")\n",
    "\n",
    "result_corpus = [] \n",
    "result_sentence_ids = [] \n",
    "\n",
    "query = \"SELECT b.text, b.sentence_id FROM masters.Translations \\\n",
    "left join masters.Sentences a on a.sentence_id=Translations.sentence_id_1 \\\n",
    "left join masters.Sentences b on b.sentence_id=Translations.sentence_id_2 \\\n",
    "where Translations.sentence_id_1=\"+str(sentence_ids[index_max]) +\\\n",
    "\" AND trim(b.language_key)='\"+to_language+\"'\";\n",
    "\n",
    "cursor = db_writer.cursor()\n",
    "cursor.execute(query)\n",
    "row = cursor.fetchone() \n",
    "\n",
    "result_sentence_ids = [] \n",
    "\n",
    "while row is not None:\n",
    "    result_sentence_id = row[1]\n",
    "    row = row[0].strip().lower().replace('(', '').replace(')', '')\n",
    "    result_corpus.append(row)\n",
    "    result_sentence_ids.append(result_sentence_id)\n",
    "    row = cursor.fetchone()\n",
    "\n",
    "cursor.close()\n",
    "db_writer.close()\n",
    "\n",
    "print(result_corpus)\n",
    "print(result_sentence_ids)\n"
   ]
  }
 ],
 "metadata": {
  "kernelspec": {
   "display_name": "Python 3",
   "language": "python",
   "name": "python3"
  },
  "language_info": {
   "codemirror_mode": {
    "name": "ipython",
    "version": 3
   },
   "file_extension": ".py",
   "mimetype": "text/x-python",
   "name": "python",
   "nbconvert_exporter": "python",
   "pygments_lexer": "ipython3",
   "version": "3.6.5"
  }
 },
 "nbformat": 4,
 "nbformat_minor": 2
}
