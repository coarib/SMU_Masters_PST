{
 "cells": [
  {
   "cell_type": "code",
   "execution_count": 46,
   "metadata": {},
   "outputs": [],
   "source": [
    "import mysql.connector\n",
    "import numpy as np\n",
    "from sklearn.feature_extraction.text import CountVectorizer\n",
    "from sklearn.feature_extraction.text import TfidfVectorizer\n",
    "from sklearn.metrics.pairwise import euclidean_distances\n",
    "from sklearn.metrics.pairwise import cosine_similarity"
   ]
  },
  {
   "cell_type": "code",
   "execution_count": 50,
   "metadata": {},
   "outputs": [
    {
     "name": "stdout",
     "output_type": "stream",
     "text": [
      "(201, 316)\n"
     ]
    }
   ],
   "source": [
    "#Open DB Connection\n",
    "db_writer = mysql.connector.connect(\n",
    "   host=\"104.154.187.13\",\n",
    "    database=\"masters\",\n",
    "    user=\"root\",\n",
    "    passwd=\"smu\")\n",
    "\n",
    "#Set and clean the input sentence\n",
    "sent = \"you really hit one out of the park.\"\n",
    "sent = sent.strip().lower().replace('(', '').replace(')', '')\n",
    "corpus = [] \n",
    "corpus.append(sent)\n",
    "\n",
    "#Query the DB Sentences\n",
    "query = \"select text from Sentences where language_key='EN'\"\n",
    "cursor = db_writer.cursor()\n",
    "cursor.execute(query)\n",
    "row = cursor.fetchone() \n",
    "\n",
    "#Clean the DB Sentences\n",
    "while row is not None:\n",
    "    row = row[0].strip().lower().replace('(', '').replace(')', '')\n",
    "    corpus.append(row)\n",
    "    row = cursor.fetchone()\n",
    "    \n",
    "cursor.close()\n",
    "db_writer.close()\n",
    "\n",
    "#Vectorize the sentences\n",
    "tfidf_vectorizer = TfidfVectorizer()\n",
    "tfidf_matrix = tfidf_vectorizer.fit_transform(corpus)\n",
    "print (tfidf_matrix.shape)"
   ]
  },
  {
   "cell_type": "markdown",
   "metadata": {},
   "source": [
    "### Cosine Similarity and Euclidean Distances"
   ]
  },
  {
   "cell_type": "code",
   "execution_count": 51,
   "metadata": {},
   "outputs": [
    {
     "name": "stdout",
     "output_type": "stream",
     "text": [
      "Least Distance: 0.419937521889\n",
      "Bottom 2 Distances: [ 0.41993752  1.22477561]\n",
      "Difference between top 2 guesses: 191.66%\n",
      "Index of Least Distance: 69\n",
      "Best Euclidean Match: 'you hit one out of the park'\n"
     ]
    }
   ],
   "source": [
    "#Find and print Euclidean Distances\n",
    "e_distance = []\n",
    "e_distance.append(euclidean_distances(tfidf_matrix[0:1], tfidf_matrix[1:]))\n",
    "\n",
    "print(\"Least Distance: \" + str(np.min(e_distance)))\n",
    "print(\"Bottom 2 Distances: \" + str(np.sort(e_distance, axis=None)[0:2]))\n",
    "percent_diff = round(((np.sort(e_distance, axis=None)[1]/np.sort(e_distance, axis=None)[0])-1)*100,2)\n",
    "print(\"Difference between top 2 guesses: \" + str(percent_diff) + \"%\")\n",
    "index_min = np.argmin(e_distance)\n",
    "print(\"Index of Least Distance: \" + str(index_min))\n",
    "print(\"Best Euclidean Match: '\" + corpus[index_min+1] +\"'\")"
   ]
  },
  {
   "cell_type": "code",
   "execution_count": 52,
   "metadata": {},
   "outputs": [
    {
     "name": "stdout",
     "output_type": "stream",
     "text": [
      "Highest Similarity: 0.911826238855\n",
      "Top 2 Similarities: [ 0.91182624  0.24996236]\n",
      "Difference between top 2 guesses: 264.79%\n",
      "Index of Highest Similarity: 69\n",
      "Best Cosine Similarity Match: 'you hit one out of the park'\n"
     ]
    }
   ],
   "source": [
    "c_similarity = []\n",
    "c_similarity.append(cosine_similarity(tfidf_matrix[0:1], tfidf_matrix[1:]))\n",
    "\n",
    "print(\"Highest Similarity: \" + str(np.max(c_similarity)))\n",
    "print(\"Top 2 Similarities: \" + str(np.sort(c_similarity, axis=None)[::-1][0:2]))\n",
    "percent_diff = round(((np.sort(c_similarity, axis=None)[::-1][0]/np.sort(c_similarity, axis=None)[::-1][1])-1)*100,2)\n",
    "print(\"Difference between top 2 guesses: \" + str(percent_diff) + \"%\")\n",
    "index_max = np.argmax(c_similarity)\n",
    "print(\"Index of Highest Similarity: \" + str(index_max))\n",
    "print(\"Best Cosine Similarity Match: '\" + corpus[index_max+1] +\"'\")"
   ]
  },
  {
   "cell_type": "code",
   "execution_count": null,
   "metadata": {},
   "outputs": [],
   "source": []
  },
  {
   "cell_type": "code",
   "execution_count": 254,
   "metadata": {},
   "outputs": [
    {
     "data": {
      "image/png": "[encoded data removed]",
      "text/plain": [
       "<Figure size 432x288 with 2 Axes>"
      ]
     },
     "metadata": {},
     "output_type": "display_data"
    }
   ],
   "source": [
    "import pandas as pd\n",
    "import matplotlib.pyplot as plt\n",
    "%matplotlib inline\n",
    "\n",
    "test = sent\n",
    "sentence = corpus[index_max+1]\n",
    "\n",
    "# convert input to list of chars so it is easy to get into pandas \n",
    "char_list1 = list(test)\n",
    "char_list2 = list(sentence)\n",
    "\n",
    "# create a dataframe where each char is one row\n",
    "df1 = pd.DataFrame({'chars': char_list1})\n",
    "df2 = pd.DataFrame({'chars': char_list2})\n",
    "\n",
    "# drop all the space characters\n",
    "df1 = df1[df1.chars != ' ']\n",
    "df2 = df2[df2.chars != ' ']\n",
    "\n",
    "# add a column for aggregation later\n",
    "df1['num'] = 1\n",
    "df2['num'] = 1\n",
    "# group rows by character type, count the occurences in each group\n",
    "# and sort by occurance\n",
    "df1 = df1.groupby('chars').sum().sort_values('num', ascending=False) / len(df1)\n",
    "df2 = df2.groupby('chars').sum().sort_values('num', ascending=False) / len(df2)\n",
    "\n",
    "# df1 = df1.groupby('chars').sum() / len(df1)\n",
    "# df2 = df2.groupby('chars').sum() / len(df2)\n",
    "\n",
    "\n",
    "#plt.bar(df.index, df.num, width=0.5, color='g')\n",
    "bar_width = 0.35\n",
    " \n",
    "# z = str(df2.index+bar_width)\n",
    "\n",
    "# fig, ax = plt.subplots()\n",
    "# ip = ax.bar(df1.index, df1.num, bar_width,\n",
    "#                 label=\"Input\")\n",
    "\n",
    "\n",
    "\n",
    "# from_db = ax.bar(z, df2.num,\n",
    "#                  bar_width, label=\"DB Sentence\")\n",
    "\n",
    "fig, (ax1, ax2) = plt.subplots(1, 2, sharey=True)\n",
    "\n",
    "pos1 = np.arange(len(df1.num))\n",
    "ax1.bar(pos1,df1.num)\n",
    "plt.sca(ax1)\n",
    "plt.xticks(pos1,df1.index)\n",
    "\n",
    "pos2 = np.arange(len(df2.num))\n",
    "ax2.bar(pos2,df2.num)\n",
    "plt.sca(ax2)\n",
    "plt.xticks(pos2,df2.index)\n",
    "\n",
    "ax1.set_xlabel('Alphabets')\n",
    "ax1.set_ylabel('Frequency')\n",
    "ax1.set_title('Sentence to be Translated')\n",
    "\n",
    "ax2.set_xlabel('Alphabets')\n",
    "ax2.set_ylabel('Frequency')\n",
    "ax2.set_title(' Matching Sentence')\n",
    "\n",
    "plt.show()"
   ]
  },
  {
   "cell_type": "code",
   "execution_count": null,
   "metadata": {},
   "outputs": [],
   "source": []
  }
 ],
 "metadata": {
  "kernelspec": {
   "display_name": "Python 3",
   "language": "python",
   "name": "python3"
  },
  "language_info": {
   "codemirror_mode": {
    "name": "ipython",
    "version": 3
   },
   "file_extension": ".py",
   "mimetype": "text/x-python",
   "name": "python",
   "nbconvert_exporter": "python",
   "pygments_lexer": "ipython3",
   "version": "3.7.3"
  }
 },
 "nbformat": 4,
 "nbformat_minor": 2
}
