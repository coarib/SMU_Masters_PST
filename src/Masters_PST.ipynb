{
 "cells": [
  {
   "cell_type": "code",
   "execution_count": 4,
   "metadata": {},
   "outputs": [],
   "source": [
    "import numpy as np\n",
    "import pickle\n",
    "import sklearn\n",
    "from sklearn.feature_extraction.text import CountVectorizer\n",
    "from sklearn.feature_extraction.text import TfidfVectorizer\n",
    "from sklearn.metrics.pairwise import euclidean_distances\n",
    "import re"
   ]
  },
  {
   "cell_type": "code",
   "execution_count": 5,
   "metadata": {},
   "outputs": [],
   "source": [
    "#set input values\n",
    "sent = \"I lost my passport;*?\"\n",
    "from_language=\"EN\"\n",
    "to_language=\"PT\"\n"
   ]
  },
  {
   "cell_type": "code",
   "execution_count": 6,
   "metadata": {},
   "outputs": [],
   "source": [
    "# read python df of languages matching the \"from_language\" from the appropriate smart-named pkl file\n",
    "pkl_file = open('../data/sentences_'+from_language+'.pkl', 'rb')\n",
    "from_language_sentences = pickle.load(pkl_file)\n",
    "pkl_file.close()\n",
    "\n",
    "#create a list of the values to be parsed, using our translatable sentence as index 0\n",
    "sent = re.sub('[!@#$%;:.?()\"\\'’,^\\{\\}\\[\\]|\\\\\\/<>=`~*&]', '', sent).strip().lower()\n",
    "\n",
    "corpus = [] \n",
    "corpus.append(sent)\n",
    "\n",
    "#Append the appropriate language values\n",
    "corpus= corpus + from_language_sentences['text'].tolist()\n"
   ]
  },
  {
   "cell_type": "code",
   "execution_count": 7,
   "metadata": {},
   "outputs": [
    {
     "name": "stdout",
     "output_type": "stream",
     "text": [
      "(204, 319)\n"
     ]
    }
   ],
   "source": [
    "tfidf_vectorizer = TfidfVectorizer()\n",
    "tfidf_matrix = tfidf_vectorizer.fit_transform(corpus)\n",
    "print (tfidf_matrix.shape)\n"
   ]
  },
  {
   "cell_type": "code",
   "execution_count": 8,
   "metadata": {
    "scrolled": false
   },
   "outputs": [
    {
     "name": "stdout",
     "output_type": "stream",
     "text": [
      "The closest sentence match is: i have lost my passport\n",
      "That sentence is sentence ID: 801\n",
      "The value of the cosine similarity for the sentences is: 91.84%\n"
     ]
    }
   ],
   "source": [
    "#grab the closest match of the sentence based on cosine similarity\n",
    "from sklearn.metrics.pairwise import cosine_similarity\n",
    "c_similarity = []\n",
    "c_similarity.append(cosine_similarity(tfidf_matrix[0:1], tfidf_matrix[1:]))\n",
    "\n",
    "#grab the closest match of the sentence based on cosine similarity\n",
    "index_max = np.argmax(c_similarity)\n",
    "print(\"The closest sentence match is: \" + corpus[index_max+1])\n",
    "\n",
    "#grab the matching sentence ID for the language using the identified text and convert it to a string\n",
    "sentence_id = from_language_sentences.loc[from_language_sentences['text'] == corpus[index_max+1]]['sentence_id'].values\n",
    "sentence_id = int(sentence_id)\n",
    "print(\"That sentence is sentence ID: \" + str(sentence_id))\n",
    "percent_match = str(round(np.amax(c_similarity),4)*100) + \"%\"\n",
    "print(\"The value of the cosine similarity for the sentences is: \" + percent_match)"
   ]
  },
  {
   "cell_type": "code",
   "execution_count": 9,
   "metadata": {},
   "outputs": [
    {
     "data": {
      "text/html": [
       "<div>\n",
       "<style scoped>\n",
       "    .dataframe tbody tr th:only-of-type {\n",
       "        vertical-align: middle;\n",
       "    }\n",
       "\n",
       "    .dataframe tbody tr th {\n",
       "        vertical-align: top;\n",
       "    }\n",
       "\n",
       "    .dataframe thead th {\n",
       "        text-align: right;\n",
       "    }\n",
       "</style>\n",
       "<table border=\"1\" class=\"dataframe\">\n",
       "  <thead>\n",
       "    <tr style=\"text-align: right;\">\n",
       "      <th></th>\n",
       "      <th>input_sentence_id</th>\n",
       "      <th>input_language_key</th>\n",
       "      <th>input_text</th>\n",
       "      <th>output_text</th>\n",
       "      <th>output_sentence_id</th>\n",
       "      <th>output_language_key</th>\n",
       "    </tr>\n",
       "  </thead>\n",
       "  <tbody>\n",
       "    <tr>\n",
       "      <th>0</th>\n",
       "      <td>801</td>\n",
       "      <td>EN</td>\n",
       "      <td>I have lost my passport</td>\n",
       "      <td>Eu perdi meu passaporte</td>\n",
       "      <td>802</td>\n",
       "      <td>PT</td>\n",
       "    </tr>\n",
       "    <tr>\n",
       "      <th>1</th>\n",
       "      <td>801</td>\n",
       "      <td>EN</td>\n",
       "      <td>I have lost my passport</td>\n",
       "      <td>मैंने अपना पासपोर्ट खो दिया है</td>\n",
       "      <td>803</td>\n",
       "      <td>HI</td>\n",
       "    </tr>\n",
       "    <tr>\n",
       "      <th>2</th>\n",
       "      <td>801</td>\n",
       "      <td>EN</td>\n",
       "      <td>I have lost my passport</td>\n",
       "      <td>mainne apana paasaport kho diya hai</td>\n",
       "      <td>804</td>\n",
       "      <td>HI</td>\n",
       "    </tr>\n",
       "    <tr>\n",
       "      <th>3</th>\n",
       "      <td>802</td>\n",
       "      <td>PT</td>\n",
       "      <td>Eu perdi meu passaporte</td>\n",
       "      <td>मैंने अपना पासपोर्ट खो दिया है</td>\n",
       "      <td>803</td>\n",
       "      <td>HI</td>\n",
       "    </tr>\n",
       "    <tr>\n",
       "      <th>4</th>\n",
       "      <td>802</td>\n",
       "      <td>PT</td>\n",
       "      <td>Eu perdi meu passaporte</td>\n",
       "      <td>mainne apana paasaport kho diya hai</td>\n",
       "      <td>804</td>\n",
       "      <td>HI</td>\n",
       "    </tr>\n",
       "  </tbody>\n",
       "</table>\n",
       "</div>"
      ],
      "text/plain": [
       "   input_sentence_id input_language_key               input_text  \\\n",
       "0                801                 EN  I have lost my passport   \n",
       "1                801                 EN  I have lost my passport   \n",
       "2                801                 EN  I have lost my passport   \n",
       "3                802                 PT  Eu perdi meu passaporte   \n",
       "4                802                 PT  Eu perdi meu passaporte   \n",
       "\n",
       "                           output_text  output_sentence_id output_language_key  \n",
       "0              Eu perdi meu passaporte                 802                  PT  \n",
       "1       मैंने अपना पासपोर्ट खो दिया है                 803                  HI  \n",
       "2  mainne apana paasaport kho diya hai                 804                  HI  \n",
       "3       मैंने अपना पासपोर्ट खो दिया है                 803                  HI  \n",
       "4  mainne apana paasaport kho diya hai                 804                  HI  "
      ]
     },
     "execution_count": 9,
     "metadata": {},
     "output_type": "execute_result"
    }
   ],
   "source": [
    "# read translations pandas df back from the pkl file\n",
    "pkl_file = open('../data/translations.pkl', 'rb')\n",
    "translations_df = pickle.load(pkl_file)\n",
    "pkl_file.close()\n",
    "\n",
    "translations_df.head()"
   ]
  },
  {
   "cell_type": "code",
   "execution_count": 10,
   "metadata": {},
   "outputs": [
    {
     "data": {
      "text/html": [
       "<div>\n",
       "<style scoped>\n",
       "    .dataframe tbody tr th:only-of-type {\n",
       "        vertical-align: middle;\n",
       "    }\n",
       "\n",
       "    .dataframe tbody tr th {\n",
       "        vertical-align: top;\n",
       "    }\n",
       "\n",
       "    .dataframe thead th {\n",
       "        text-align: right;\n",
       "    }\n",
       "</style>\n",
       "<table border=\"1\" class=\"dataframe\">\n",
       "  <thead>\n",
       "    <tr style=\"text-align: right;\">\n",
       "      <th></th>\n",
       "      <th>input_sentence_id</th>\n",
       "      <th>input_language_key</th>\n",
       "      <th>input_text</th>\n",
       "      <th>output_text</th>\n",
       "      <th>output_sentence_id</th>\n",
       "      <th>output_language_key</th>\n",
       "    </tr>\n",
       "  </thead>\n",
       "  <tbody>\n",
       "    <tr>\n",
       "      <th>0</th>\n",
       "      <td>801</td>\n",
       "      <td>EN</td>\n",
       "      <td>I have lost my passport</td>\n",
       "      <td>Eu perdi meu passaporte</td>\n",
       "      <td>802</td>\n",
       "      <td>PT</td>\n",
       "    </tr>\n",
       "  </tbody>\n",
       "</table>\n",
       "</div>"
      ],
      "text/plain": [
       "   input_sentence_id input_language_key               input_text  \\\n",
       "0                801                 EN  I have lost my passport   \n",
       "\n",
       "               output_text  output_sentence_id output_language_key  \n",
       "0  Eu perdi meu passaporte                 802                  PT  "
      ]
     },
     "execution_count": 10,
     "metadata": {},
     "output_type": "execute_result"
    }
   ],
   "source": [
    "#get the resulting translations for the input sentence and desired language\n",
    "#translations_df.loc[(translations_df['input_sentence_id'] == sentence_id) & translations_df['output_language_key'] == to_language]\n",
    "translations = translations_df.loc[(translations_df['output_language_key'] == to_language) & (translations_df['input_sentence_id'] == sentence_id)]\n",
    "translations "
   ]
  },
  {
   "cell_type": "code",
   "execution_count": 11,
   "metadata": {},
   "outputs": [
    {
     "data": {
      "text/plain": [
       "'I have lost my passport'"
      ]
     },
     "execution_count": 11,
     "metadata": {},
     "output_type": "execute_result"
    }
   ],
   "source": [
    "translations['input_text'].values[0]"
   ]
  },
  {
   "cell_type": "code",
   "execution_count": 12,
   "metadata": {},
   "outputs": [
    {
     "data": {
      "text/plain": [
       "'Eu perdi meu passaporte'"
      ]
     },
     "execution_count": 12,
     "metadata": {},
     "output_type": "execute_result"
    }
   ],
   "source": [
    "translations['output_text'].values[0]"
   ]
  },
  {
   "cell_type": "code",
   "execution_count": 13,
   "metadata": {},
   "outputs": [
    {
     "data": {
      "text/plain": [
       "'eu perdi meu passaporte'"
      ]
     },
     "execution_count": 13,
     "metadata": {},
     "output_type": "execute_result"
    }
   ],
   "source": [
    "from googletrans import Translator\n",
    "translator = Translator()\n",
    "translated = translator.translate(sent, src=from_language, dest=to_language)\n",
    "translated.text"
   ]
  }
 ],
 "metadata": {
  "kernelspec": {
   "display_name": "Python 3",
   "language": "python",
   "name": "python3"
  },
  "language_info": {
   "codemirror_mode": {
    "name": "ipython",
    "version": 3
   },
   "file_extension": ".py",
   "mimetype": "text/x-python",
   "name": "python",
   "nbconvert_exporter": "python",
   "pygments_lexer": "ipython3",
   "version": "3.7.3"
  }
 },
 "nbformat": 4,
 "nbformat_minor": 2
}
